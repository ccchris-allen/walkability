{
 "metadata": {
  "name": "",
  "signature": "sha256:9109fdfd17e690f6405528e179ff215bb61f3e072778f0f18883df33291f9e38"
 },
 "nbformat": 3,
 "nbformat_minor": 0,
 "worksheets": [
  {
   "cells": [
    {
     "cell_type": "code",
     "collapsed": false,
     "input": [
      "import matplotlib.pyplot as plt\n",
      "import numpy as np\n",
      "import sys\n",
      "\n",
      "import pickle\n",
      "\n",
      "%matplotlib inline"
     ],
     "language": "python",
     "metadata": {},
     "outputs": [],
     "prompt_number": 1
    },
    {
     "cell_type": "code",
     "collapsed": false,
     "input": [
      "# HACK: this really should be set as an environment variable\n",
      "sys.path.append('../')\n",
      "\n",
      "from spatial_networks import SpatialNetwork, Catchment, Path, METERS_PER_MILE\n",
      "from algorithms import *"
     ],
     "language": "python",
     "metadata": {},
     "outputs": [],
     "prompt_number": 2
    },
    {
     "cell_type": "code",
     "collapsed": false,
     "input": [
      "\"\"\"\n",
      "w, s, e, n = -117.243896, 32.904258, -117.12156, 33.037738\n",
      "nsew = (n, s, e, w)\n",
      "snet = SpatialNetwork.from_osm_bbox(nsew)\n",
      "\"\"\"\n",
      "snet = pickle.load(open(\"./net.p\"))"
     ],
     "language": "python",
     "metadata": {},
     "outputs": []
    },
    {
     "cell_type": "heading",
     "level": 2,
     "metadata": {},
     "source": [
      "PLOT ENTIRE NETWORK"
     ]
    },
    {
     "cell_type": "code",
     "collapsed": false,
     "input": [
      "snet.plot(node_size=0, fig_height=8);"
     ],
     "language": "python",
     "metadata": {},
     "outputs": []
    },
    {
     "cell_type": "heading",
     "level": 2,
     "metadata": {},
     "source": [
      "SHORTEST PATH"
     ]
    },
    {
     "cell_type": "code",
     "collapsed": false,
     "input": [
      "# pick random node to do analysis on \n",
      "nodes = list(snet.net.nodes())\n",
      "center = nodes[11]\n",
      "\n",
      "# get catchment area around node\n",
      "catchment = snet.to_catchment(center, METERS_PER_MILE)\n",
      "\n",
      "# pick random node within catchment area\n",
      "c_nodes = list(catchment.net.nodes())\n",
      "nearby = c_nodes[-15:]\n",
      "\n",
      "# calculate shortest path to all \n",
      "paths = [catchment.shortest_path(n) for n in nearby]\n",
      "gdf = Path.paths_to_gdf(paths)"
     ],
     "language": "python",
     "metadata": {},
     "outputs": []
    },
    {
     "cell_type": "heading",
     "level": 3,
     "metadata": {},
     "source": [
      "DISPLAY SHORTEST PATH FROM CENTER TO ALL OTHER NODES IN CATCHMENT"
     ]
    },
    {
     "cell_type": "code",
     "collapsed": false,
     "input": [
      "catchment.plot_paths(paths, fig_width=7);"
     ],
     "language": "python",
     "metadata": {},
     "outputs": []
    },
    {
     "cell_type": "heading",
     "level": 3,
     "metadata": {},
     "source": [
      "REDUNDANT PATHS"
     ]
    },
    {
     "cell_type": "raw",
     "metadata": {},
     "source": [
      "def find_optimal_path(paths, path_label='label', criteria=['length'], weights=None, minimize=True):\n",
      "    \"\"\"Determine which paths optimizes the criteria.\"\"\"\n",
      "    \n",
      "    gdf = Path.paths_to_gdf(paths)\n",
      "    \n",
      "    if type(minimize) in (list, np.array):\n",
      "        minimize = np.array(minimize)\n",
      "    else:\n",
      "        minimize = np.ones(len(criteria)).astype(bool)\n",
      "    \n",
      "    if type(criteria) is not list:\n",
      "        criteria = [criteria]\n",
      "    \n",
      "    # if no weights are specified, use equal weighting\n",
      "    if not weights:\n",
      "        weights = np.ones(len(criteria)) / (1. * len(criteria))\n",
      "       \n",
      "    scores = gdf.groupby(path_label)[criteria].sum().values    \n",
      "    # do minmax normalization [0, 1]\n",
      "    scores = (scores - scores.min()) / (scores.max() - scores.min()) \n",
      "    # reverse if necessary\n",
      "    scores[:, ~minimize] = 1. - scores[:, ~minimize]    \n",
      "    # apply weight to scores\n",
      "    scores = (scores * weights).sum(axis=1)\n",
      "\n",
      "    \n",
      "    #func = 'argmin' if minimize else 'argmax'\n",
      "    func = 'argmin'\n",
      "\n",
      "    # return path that optimizes (min or max) scores\n",
      "    return paths[getattr(scores, func)()]"
     ]
    },
    {
     "cell_type": "heading",
     "level": 3,
     "metadata": {},
     "source": [
      "GET REDUNDANT PATHS BETWEEN CENTER AND RANDOM NEARBY POINT"
     ]
    },
    {
     "cell_type": "code",
     "collapsed": false,
     "input": [
      "paths = catchment.redundant_paths(nearby[3], 1.05)\n",
      "print \"{} redundant paths\".format(len(paths))"
     ],
     "language": "python",
     "metadata": {},
     "outputs": []
    },
    {
     "cell_type": "code",
     "collapsed": false,
     "input": [
      "catchment.plot_paths(paths, fig_width=5);"
     ],
     "language": "python",
     "metadata": {},
     "outputs": []
    },
    {
     "cell_type": "heading",
     "level": 3,
     "metadata": {},
     "source": [
      "DETERMINING THE BEST PATH FROM ALL REDUNDANT PATHS"
     ]
    },
    {
     "cell_type": "code",
     "collapsed": false,
     "input": [
      "best1 = Path.find_optimal_path(paths, 'label', criteria=['length'], minimize=[True]);"
     ],
     "language": "python",
     "metadata": {},
     "outputs": []
    },
    {
     "cell_type": "code",
     "collapsed": false,
     "input": [
      "best2 = Path.find_optimal_path(paths, 'label', criteria=['length'], minimize=[False])"
     ],
     "language": "python",
     "metadata": {},
     "outputs": []
    },
    {
     "cell_type": "code",
     "collapsed": false,
     "input": [
      "catchment.plot_paths([best1], fig_width=5);"
     ],
     "language": "python",
     "metadata": {},
     "outputs": []
    },
    {
     "cell_type": "code",
     "collapsed": false,
     "input": [
      "catchment.plot_paths([best2], fig_width=5);"
     ],
     "language": "python",
     "metadata": {},
     "outputs": []
    },
    {
     "cell_type": "code",
     "collapsed": false,
     "input": [],
     "language": "python",
     "metadata": {},
     "outputs": []
    }
   ],
   "metadata": {}
  }
 ]
}
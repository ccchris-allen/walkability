{
 "metadata": {
  "name": "",
  "signature": "sha256:3d61da91de5669d1b0dba2ff49a1caed0f8b1ac43ac991aacda844e26ce41e08"
 },
 "nbformat": 3,
 "nbformat_minor": 0,
 "worksheets": [
  {
   "cells": [
    {
     "cell_type": "code",
     "collapsed": false,
     "input": [
      "import matplotlib.pyplot as plt\n",
      "import numpy as np\n",
      "\n",
      "import pickle\n",
      "\n",
      "%matplotlib inline"
     ],
     "language": "python",
     "metadata": {},
     "outputs": [],
     "prompt_number": 17
    },
    {
     "cell_type": "code",
     "collapsed": false,
     "input": [
      "from spatial_networks import SpatialNetwork, Catchment, Path, METERS_PER_MILE"
     ],
     "language": "python",
     "metadata": {},
     "outputs": [],
     "prompt_number": 2
    },
    {
     "cell_type": "code",
     "collapsed": false,
     "input": [
      "w, s, e, n = -117.243896, 32.904258, -117.12156, 33.037738\n",
      "nsew = (n, s, e, w)"
     ],
     "language": "python",
     "metadata": {},
     "outputs": [],
     "prompt_number": 3
    },
    {
     "cell_type": "code",
     "collapsed": false,
     "input": [
      "#snet = SpatialNetwork.from_osm_bbox(nsew)\n",
      "snet = pickle.load(open(\"./net.p\"))"
     ],
     "language": "python",
     "metadata": {},
     "outputs": [],
     "prompt_number": 4
    },
    {
     "cell_type": "code",
     "collapsed": false,
     "input": [
      "#snet.plot(node_size=0, fig_height=5)"
     ],
     "language": "python",
     "metadata": {},
     "outputs": [],
     "prompt_number": 5
    },
    {
     "cell_type": "heading",
     "level": 3,
     "metadata": {},
     "source": [
      "SHORTEST PATH"
     ]
    },
    {
     "cell_type": "code",
     "collapsed": false,
     "input": [
      "nodes = list(snet.net.nodes())\n",
      "center = nodes[11]\n",
      "catchment = snet.to_catchment(center, METERS_PER_MILE)\n",
      "c_nodes = list(catchment.net.nodes())\n",
      "nearby = c_nodes[-15:]\n",
      "paths = [catchment.shortest_path(n) for n in nearby]\n",
      "gdf = Path.paths_to_gdf(paths)"
     ],
     "language": "python",
     "metadata": {},
     "outputs": [],
     "prompt_number": 6
    },
    {
     "cell_type": "heading",
     "level": 3,
     "metadata": {},
     "source": [
      "REDUNDANT PATHS"
     ]
    },
    {
     "cell_type": "code",
     "collapsed": false,
     "input": [
      "def find_optimal_path(paths, path_id, criteria=['length'], weights=None):\n",
      "    gdf = Path.paths_to_gdf(paths)\n",
      "    \n",
      "    if type(criteria) is str:\n",
      "        criteria = [criteria]\n",
      "    \n",
      "    if not weights:\n",
      "        weights = np.ones(len(criteria))\n",
      "        weights = weights / weights.sum()\n",
      "       \n",
      "    scores = gdf.groupby(path_id)[criteria].sum()\n",
      "    # normalize \n",
      "    scores = scores / scores.max()\n",
      "    # weight\n",
      "    scores = (scores * weights).sum(axis=1)\n",
      "    \n",
      "    return paths[sums_weighted_normed.argmax()]"
     ],
     "language": "python",
     "metadata": {},
     "outputs": [],
     "prompt_number": 59
    },
    {
     "cell_type": "code",
     "collapsed": false,
     "input": [
      "paths = catchment.redundant_paths(nearby[3], 1.05)\n",
      "print len(paths)\n",
      "best = find_optimal_path(paths, 'label', criteria=['length', 'osmid'])"
     ],
     "language": "python",
     "metadata": {},
     "outputs": [
      {
       "output_type": "stream",
       "stream": "stdout",
       "text": [
        "5\n"
       ]
      }
     ],
     "prompt_number": 71
    },
    {
     "cell_type": "code",
     "collapsed": false,
     "input": [
      "best"
     ],
     "language": "python",
     "metadata": {},
     "outputs": [
      {
       "metadata": {},
       "output_type": "pyout",
       "prompt_number": 72,
       "text": [
        "<spatial_networks.Path at 0x7f7208a24a10>"
       ]
      }
     ],
     "prompt_number": 72
    },
    {
     "cell_type": "code",
     "collapsed": false,
     "input": [
      "best.geometry"
     ],
     "language": "python",
     "metadata": {},
     "outputs": [
      {
       "metadata": {},
       "output_type": "pyout",
       "prompt_number": 73,
       "svg": [
        "<svg xmlns=\"http://www.w3.org/2000/svg\" xmlns:xlink=\"http://www.w3.org/1999/xlink\" width=\"100.0\" height=\"100.0\" viewBox=\"-117.15506056 32.98189624 0.00827711999999 0.00532342\" preserveAspectRatio=\"xMinYMin meet\"><g transform=\"matrix(1,0,0,-1,0,65.9691159)\"><polyline fill=\"none\" stroke=\"#66cc99\" stroke-width=\"0.0001655424\" points=\"-117.14709,32.9822894 -117.1472658,32.9822371 -117.1478109,32.9822028 -117.1489353,32.9823057 -117.1497121,32.9823229 -117.1501346,32.9823 -117.150557,32.98234 -117.1508977,32.9823972 -117.151218,32.9825858 -117.1517836,32.9828773 -117.1521175,32.9830545 -117.1523015,32.9830888 -117.152649,32.9831517 -117.1529761,32.9832888 -117.15316,32.9834718 -117.1532691,32.9837175 -117.1532759,32.9838261 -117.1532486,32.9841005 -117.1531941,32.984432 -117.153126,32.9849236 -117.1529488,32.9854952 -117.1527853,32.9857809 -117.1525536,32.9862553 -117.152514,32.9863838 -117.1524991,32.9864325 -117.1525672,32.986684 -117.1527468,32.9868361 -117.1528375,32.9869131 -117.1529001,32.9868767 -117.1530812,32.9867215 -117.1532392,32.986673 -117.1535976,32.9863336 -117.15365,32.9862306 -117.1537586,32.9861995 -117.1538968,32.9863358 -117.1539959,32.9864859 -117.1541517,32.986307 -117.1544763,32.9860741 -117.154754,32.9859202\" opacity=\"0.8\" /></g></svg>"
       ],
       "text": [
        "<shapely.geometry.linestring.LineString at 0x7f7208a24ad0>"
       ]
      }
     ],
     "prompt_number": 73
    },
    {
     "cell_type": "code",
     "collapsed": false,
     "input": [],
     "language": "python",
     "metadata": {},
     "outputs": []
    }
   ],
   "metadata": {}
  }
 ]
}
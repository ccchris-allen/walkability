{
 "metadata": {
  "name": "",
  "signature": "sha256:2a62edf0af3d0d8cab2c56565e969e7f079953605fc44dc9be8813e24d44826c"
 },
 "nbformat": 3,
 "nbformat_minor": 0,
 "worksheets": [
  {
   "cells": [
    {
     "cell_type": "code",
     "collapsed": false,
     "input": [
      "import matplotlib.pyplot as plt\n",
      "import numpy as np\n",
      "\n",
      "import pickle\n",
      "\n",
      "%matplotlib inline"
     ],
     "language": "python",
     "metadata": {},
     "outputs": [],
     "prompt_number": 1
    },
    {
     "cell_type": "code",
     "collapsed": false,
     "input": [
      "from spatial_networks import SpatialNetwork, Catchment, Path, METERS_PER_MILE"
     ],
     "language": "python",
     "metadata": {},
     "outputs": [],
     "prompt_number": 2
    },
    {
     "cell_type": "code",
     "collapsed": false,
     "input": [
      "w, s, e, n = -117.243896, 32.904258, -117.12156, 33.037738\n",
      "nsew = (n, s, e, w)"
     ],
     "language": "python",
     "metadata": {},
     "outputs": [],
     "prompt_number": 3
    },
    {
     "cell_type": "code",
     "collapsed": false,
     "input": [
      "#snet = SpatialNetwork.from_osm_bbox(nsew)\n",
      "snet = pickle.load(open(\"./net.p\"))"
     ],
     "language": "python",
     "metadata": {},
     "outputs": [],
     "prompt_number": 4
    },
    {
     "cell_type": "code",
     "collapsed": false,
     "input": [
      "#snet.plot(node_size=0, fig_height=5)"
     ],
     "language": "python",
     "metadata": {},
     "outputs": [],
     "prompt_number": 5
    },
    {
     "cell_type": "heading",
     "level": 3,
     "metadata": {},
     "source": [
      "SHORTEST PATH"
     ]
    },
    {
     "cell_type": "code",
     "collapsed": false,
     "input": [
      "nodes = list(snet.net.nodes())\n",
      "center = nodes[11]\n",
      "catchment = snet.to_catchment(center, METERS_PER_MILE)\n",
      "c_nodes = list(catchment.net.nodes())\n",
      "nearby = c_nodes[-15:]\n",
      "paths = [catchment.shortest_path(n) for n in nearby]\n",
      "gdf = Path.paths_to_gdf(paths)"
     ],
     "language": "python",
     "metadata": {},
     "outputs": [],
     "prompt_number": 6
    },
    {
     "cell_type": "heading",
     "level": 3,
     "metadata": {},
     "source": [
      "REDUNDANT PATHS"
     ]
    },
    {
     "cell_type": "code",
     "collapsed": false,
     "input": [
      "def find_optimal_path(paths, path_label, criteria=['length'], weights=None, minimize=True):\n",
      "    gdf = Path.paths_to_gdf(paths)\n",
      "    \n",
      "    if type(criteria) is not list:\n",
      "        criteria = [criteria]\n",
      "    \n",
      "    if not weights:\n",
      "        weights = np.ones(len(criteria))\n",
      "        weights = weights / weights.sum()\n",
      "       \n",
      "    scores = gdf.groupby(path_label)[criteria].sum()\n",
      "    # normalize (should do min/max)\n",
      "    scores = scores / scores.max()\n",
      "    # weight\n",
      "    scores = (scores * weights).sum(axis=1)\n",
      "    \n",
      "    func = 'argmin' if minimize else 'argmax'\n",
      "    \n",
      "    return paths[getattr(scores, func)()]"
     ],
     "language": "python",
     "metadata": {},
     "outputs": [],
     "prompt_number": 44
    },
    {
     "cell_type": "code",
     "collapsed": false,
     "input": [
      "paths = catchment.redundant_paths(nearby[3], 1.05)\n",
      "print len(paths)\n",
      "best = find_optimal_path(paths, 'label', criteria=['length', 'osmid'], minimize=False)"
     ],
     "language": "python",
     "metadata": {},
     "outputs": [
      {
       "output_type": "stream",
       "stream": "stdout",
       "text": [
        "5\n"
       ]
      }
     ],
     "prompt_number": 43
    },
    {
     "cell_type": "code",
     "collapsed": false,
     "input": [
      "best.nodes"
     ],
     "language": "python",
     "metadata": {},
     "outputs": [
      {
       "metadata": {},
       "output_type": "pyout",
       "prompt_number": 34,
       "text": [
        "[3727097921,\n",
        " 1679208147,\n",
        " 1679208136,\n",
        " 1679210079,\n",
        " 1679203447,\n",
        " 3687423489,\n",
        " 1679203444,\n",
        " 3687423463,\n",
        " 3687423475,\n",
        " 1679203438]"
       ]
      }
     ],
     "prompt_number": 34
    },
    {
     "cell_type": "code",
     "collapsed": false,
     "input": [
      "best = find_optimal_path(paths, 'label', criteria=['length', 'osmid'], minimize=True)\n",
      "best.nodes"
     ],
     "language": "python",
     "metadata": {},
     "outputs": [
      {
       "metadata": {},
       "output_type": "pyout",
       "prompt_number": 39,
       "text": [
        "[3727097921,\n",
        " 1679208147,\n",
        " 1679208136,\n",
        " 1679210079,\n",
        " 1679203447,\n",
        " 1679203444,\n",
        " 3687423463,\n",
        " 1679203438]"
       ]
      }
     ],
     "prompt_number": 39
    },
    {
     "cell_type": "code",
     "collapsed": false,
     "input": [],
     "language": "python",
     "metadata": {},
     "outputs": []
    }
   ],
   "metadata": {}
  }
 ]
}
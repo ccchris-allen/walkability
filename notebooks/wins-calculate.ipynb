{
 "metadata": {
  "name": "",
  "signature": "sha256:effc2779d0adb848194f41e3109af8c9938da64d480d2d0c7539f75337fd5fda"
 },
 "nbformat": 3,
 "nbformat_minor": 0,
 "worksheets": [
  {
   "cells": [
    {
     "cell_type": "heading",
     "level": 1,
     "metadata": {},
     "source": [
      "WINS CALCULATION"
     ]
    },
    {
     "cell_type": "markdown",
     "metadata": {},
     "source": [
      "This notebook demonstrates how to calculate WINS scores for three zip codes in San Diego."
     ]
    },
    {
     "cell_type": "markdown",
     "metadata": {},
     "source": [
      "---"
     ]
    },
    {
     "cell_type": "heading",
     "level": 2,
     "metadata": {},
     "source": [
      "Setup"
     ]
    },
    {
     "cell_type": "markdown",
     "metadata": {},
     "source": [
      "First, load necessary modules"
     ]
    },
    {
     "cell_type": "code",
     "collapsed": false,
     "input": [
      "import matplotlib.pyplot as plt\n",
      "import seaborn as sns\n",
      "import numpy as np\n",
      "import os\n",
      "\n",
      "import matplotlib.cm as cm\n",
      "import matplotlib.colors as colors\n",
      "\n",
      "from shapely.geometry import MultiPoint\n",
      "import geopandas as gpd\n",
      "import pickle\n",
      "\n",
      "os.chdir('../') # HACK: this really should be set as an environment variable\n",
      "\n",
      "from spatial_networks import SpatialNetwork, Catchment, Path, METERS_PER_MILE\n",
      "from algorithms import *\n",
      "\n",
      "sns.set_style(\"whitegrid\")\n",
      "\n",
      "import warnings\n",
      "warnings.filterwarnings('ignore')\n",
      "\n",
      "%matplotlib inline"
     ],
     "language": "python",
     "metadata": {},
     "outputs": [],
     "prompt_number": 7
    },
    {
     "cell_type": "code",
     "collapsed": false,
     "input": [
      "# 92103\n",
      "nsew = 33.037738, 32.904258, -117.12156, -117.243896\n",
      "snet92103 = SpatialNetwork.from_osm_bbox(nsew)\n",
      "\n",
      "# 92113 \n",
      "nsew = 32.708961, 32.680502, -117.084947, -117.158632\n",
      "snet92113 = SpatialNetwork.from_osm_bbox(nsew)\n",
      "\n",
      "# 92120 \n",
      "nsew = 32.821349, 32.773731, -117.039413, -117.104387\n",
      "snet92120 = SpatialNetwork.from_osm_bbox(nsew)\n",
      "\n",
      "snet_names = [ '92103', '92113', '92120' ]\n",
      "snets = [ snet92103, snet92113, snet92120 ]"
     ],
     "language": "python",
     "metadata": {},
     "outputs": [],
     "prompt_number": 8
    },
    {
     "cell_type": "heading",
     "level": 2,
     "metadata": {},
     "source": [
      "Prepare network for WINS calculations"
     ]
    },
    {
     "cell_type": "markdown",
     "metadata": {},
     "source": [
      "Add POIs to network:"
     ]
    },
    {
     "cell_type": "code",
     "collapsed": false,
     "input": [
      "YELP_SHP = 'data/poi/yelp/biz_exported_4269.shp'\n",
      "SCHOOLS_SHP = 'data/poi/schools/schools_wgs84.shp'\n",
      "\n",
      "yelps = gpd.read_file(YELP_SHP)\n",
      "schools = gpd.read_file(SCHOOLS_SHP)"
     ],
     "language": "python",
     "metadata": {},
     "outputs": [
      {
       "ename": "IOError",
       "evalue": "no such file or directory: 'data/poi/yelp/biz_exported_4269.shp'",
       "output_type": "pyerr",
       "traceback": [
        "\u001b[0;31m---------------------------------------------------------------------------\u001b[0m\n\u001b[0;31mIOError\u001b[0m                                   Traceback (most recent call last)",
        "\u001b[0;32m<ipython-input-9-ebdc680f5a91>\u001b[0m in \u001b[0;36m<module>\u001b[0;34m()\u001b[0m\n\u001b[1;32m      2\u001b[0m \u001b[0mSCHOOLS_SHP\u001b[0m \u001b[0;34m=\u001b[0m \u001b[0;34m'data/poi/schools/schools_wgs84.shp'\u001b[0m\u001b[0;34m\u001b[0m\u001b[0m\n\u001b[1;32m      3\u001b[0m \u001b[0;34m\u001b[0m\u001b[0m\n\u001b[0;32m----> 4\u001b[0;31m \u001b[0myelps\u001b[0m \u001b[0;34m=\u001b[0m \u001b[0mgpd\u001b[0m\u001b[0;34m.\u001b[0m\u001b[0mread_file\u001b[0m\u001b[0;34m(\u001b[0m\u001b[0mYELP_SHP\u001b[0m\u001b[0;34m)\u001b[0m\u001b[0;34m\u001b[0m\u001b[0m\n\u001b[0m\u001b[1;32m      5\u001b[0m \u001b[0mschools\u001b[0m \u001b[0;34m=\u001b[0m \u001b[0mgpd\u001b[0m\u001b[0;34m.\u001b[0m\u001b[0mread_file\u001b[0m\u001b[0;34m(\u001b[0m\u001b[0mSCHOOLS_SHP\u001b[0m\u001b[0;34m)\u001b[0m\u001b[0;34m\u001b[0m\u001b[0m\n",
        "\u001b[0;32m/home/phil/.local/lib/python2.7/site-packages/geopandas/io/file.pyc\u001b[0m in \u001b[0;36mread_file\u001b[0;34m(filename, **kwargs)\u001b[0m\n\u001b[1;32m     19\u001b[0m     \"\"\"\n\u001b[1;32m     20\u001b[0m     \u001b[0mbbox\u001b[0m \u001b[0;34m=\u001b[0m \u001b[0mkwargs\u001b[0m\u001b[0;34m.\u001b[0m\u001b[0mpop\u001b[0m\u001b[0;34m(\u001b[0m\u001b[0;34m'bbox'\u001b[0m\u001b[0;34m,\u001b[0m \u001b[0mNone\u001b[0m\u001b[0;34m)\u001b[0m\u001b[0;34m\u001b[0m\u001b[0m\n\u001b[0;32m---> 21\u001b[0;31m     \u001b[0;32mwith\u001b[0m \u001b[0mfiona\u001b[0m\u001b[0;34m.\u001b[0m\u001b[0mopen\u001b[0m\u001b[0;34m(\u001b[0m\u001b[0mfilename\u001b[0m\u001b[0;34m,\u001b[0m \u001b[0;34m**\u001b[0m\u001b[0mkwargs\u001b[0m\u001b[0;34m)\u001b[0m \u001b[0;32mas\u001b[0m \u001b[0mf\u001b[0m\u001b[0;34m:\u001b[0m\u001b[0;34m\u001b[0m\u001b[0m\n\u001b[0m\u001b[1;32m     22\u001b[0m         \u001b[0mcrs\u001b[0m \u001b[0;34m=\u001b[0m \u001b[0mf\u001b[0m\u001b[0;34m.\u001b[0m\u001b[0mcrs\u001b[0m\u001b[0;34m\u001b[0m\u001b[0m\n\u001b[1;32m     23\u001b[0m         \u001b[0;32mif\u001b[0m \u001b[0mbbox\u001b[0m \u001b[0;32mis\u001b[0m \u001b[0;32mnot\u001b[0m \u001b[0mNone\u001b[0m\u001b[0;34m:\u001b[0m\u001b[0;34m\u001b[0m\u001b[0m\n",
        "\u001b[0;32m/usr/local/lib/python2.7/dist-packages/fiona/__init__.pyc\u001b[0m in \u001b[0;36mopen\u001b[0;34m(path, mode, driver, schema, crs, encoding, layer, vfs, enabled_drivers, crs_wkt)\u001b[0m\n\u001b[1;32m    160\u001b[0m                 \u001b[0;32mraise\u001b[0m \u001b[0mIOError\u001b[0m\u001b[0;34m(\u001b[0m\u001b[0;34m\"no such archive file: %r\"\u001b[0m \u001b[0;34m%\u001b[0m \u001b[0marchive\u001b[0m\u001b[0;34m)\u001b[0m\u001b[0;34m\u001b[0m\u001b[0m\n\u001b[1;32m    161\u001b[0m         \u001b[0;32melif\u001b[0m \u001b[0mpath\u001b[0m \u001b[0;34m!=\u001b[0m \u001b[0;34m'-'\u001b[0m \u001b[0;32mand\u001b[0m \u001b[0;32mnot\u001b[0m \u001b[0mos\u001b[0m\u001b[0;34m.\u001b[0m\u001b[0mpath\u001b[0m\u001b[0;34m.\u001b[0m\u001b[0mexists\u001b[0m\u001b[0;34m(\u001b[0m\u001b[0mpath\u001b[0m\u001b[0;34m)\u001b[0m\u001b[0;34m:\u001b[0m\u001b[0;34m\u001b[0m\u001b[0m\n\u001b[0;32m--> 162\u001b[0;31m             \u001b[0;32mraise\u001b[0m \u001b[0mIOError\u001b[0m\u001b[0;34m(\u001b[0m\u001b[0;34m\"no such file or directory: %r\"\u001b[0m \u001b[0;34m%\u001b[0m \u001b[0mpath\u001b[0m\u001b[0;34m)\u001b[0m\u001b[0;34m\u001b[0m\u001b[0m\n\u001b[0m\u001b[1;32m    163\u001b[0m         c = Collection(path, mode, driver=driver, encoding=encoding,\n\u001b[1;32m    164\u001b[0m                        \u001b[0mlayer\u001b[0m\u001b[0;34m=\u001b[0m\u001b[0mlayer\u001b[0m\u001b[0;34m,\u001b[0m \u001b[0mvsi\u001b[0m\u001b[0;34m=\u001b[0m\u001b[0mvsi\u001b[0m\u001b[0;34m,\u001b[0m \u001b[0marchive\u001b[0m\u001b[0;34m=\u001b[0m\u001b[0marchive\u001b[0m\u001b[0;34m,\u001b[0m\u001b[0;34m\u001b[0m\u001b[0m\n",
        "\u001b[0;31mIOError\u001b[0m: no such file or directory: 'data/poi/yelp/biz_exported_4269.shp'"
       ]
      }
     ],
     "prompt_number": 9
    },
    {
     "cell_type": "markdown",
     "metadata": {},
     "source": [
      "Filter out POIs that are outside our study areas:"
     ]
    },
    {
     "cell_type": "code",
     "collapsed": false,
     "input": [
      "boundaries = []\n",
      "\n",
      "for snet in snets:\n",
      "    gdf_nodes, gdf_edges = ox.graph_to_gdfs(snet.net)\n",
      "    boundary = gdf_nodes.geometry.unary_union.convex_hull\n",
      "    boundaries.append(boundary)\n",
      "\n",
      "yelps = yelps[yelps.within(MultiPolygon(boundaries))]\n",
      "schools = schools[schools.within(MultiPolygon(boundaries))]"
     ],
     "language": "python",
     "metadata": {},
     "outputs": []
    },
    {
     "cell_type": "markdown",
     "metadata": {},
     "source": [
      "Plot filtered POIs to make sure these look good:"
     ]
    },
    {
     "cell_type": "code",
     "collapsed": false,
     "input": [
      "ax = yelps.plot(c='blue')\n",
      "schools.plot(ax=ax, c='red')"
     ],
     "language": "python",
     "metadata": {},
     "outputs": []
    },
    {
     "cell_type": "markdown",
     "metadata": {},
     "source": [
      "Clear POI-related data from road networks if already exist:"
     ]
    },
    {
     "cell_type": "raw",
     "metadata": {},
     "source": [
      "for snet in snets:\n",
      "    for n in snet.net.nodes():\n",
      "        snet.net.node[n].pop('pois', None)\n",
      "        snet.net.node[n].pop('score', None)\n",
      "        snet.net.node[n].pop('score_rating', None)"
     ]
    },
    {
     "cell_type": "markdown",
     "metadata": {},
     "source": [
      "Set POI categories:"
     ]
    },
    {
     "cell_type": "code",
     "collapsed": false,
     "input": [
      "# Mark each POI 'restaurant' or 'grocery'\n",
      "cats = yelps['yelp_categ'].str.replace(\"'\", '').str.split(',')\n",
      "yelps['cat_type'] = yelps['yelp_categ'].str.contains('grocery').apply(lambda x: 'grocery' if x else 'restaurant')\n",
      "\n",
      "schools['cat_type'] = 'school'"
     ],
     "language": "python",
     "metadata": {},
     "outputs": [],
     "prompt_number": 16
    },
    {
     "cell_type": "markdown",
     "metadata": {},
     "source": [
      "Grab only necessary POI columns:"
     ]
    },
    {
     "cell_type": "code",
     "collapsed": false,
     "input": [
      "yelp_columns = [\n",
      "    'OBJECTID', \n",
      "    'biz_name', \n",
      "    'biz_price_', \n",
      "    'rating', \n",
      "    'yelp_cat_1', \n",
      "    'yelp_categ',\n",
      "    'coordinates',\n",
      "    'cat_type'\n",
      "]\n",
      "\n",
      "yelps['poi_type'] = 'yelp'\n",
      "yelps['coordinates'] = yelps.geometry.apply(lambda g: g.coords[0][::-1])\n",
      "yelps_dict = yelps[yelp_columns].to_dict('rows')\n",
      "\n",
      "schools_columns = [\n",
      "    'SOCTYPE',\n",
      "    'PRIV',\n",
      "    'SCHOOL',\n",
      "    'SHORTNAME',\n",
      "    'coordinates',\n",
      "    'cat_type'\n",
      "]\n",
      "\n",
      "schools['poi_type'] = 'school'\n",
      "schools['coordinates'] = schools.geometry.apply(lambda g: g.coords[0][::-1])\n",
      "schools_dict = schools[schools_columns].to_dict('rows')"
     ],
     "language": "python",
     "metadata": {},
     "outputs": [],
     "prompt_number": 17
    },
    {
     "cell_type": "markdown",
     "metadata": {},
     "source": [
      "Add POIs to the network:"
     ]
    },
    {
     "cell_type": "code",
     "collapsed": false,
     "input": [
      "for snet in snets:\n",
      "    snet.add_pois(yelps_dict)\n",
      "    snet.add_pois(schools_dict)"
     ],
     "language": "python",
     "metadata": {},
     "outputs": [],
     "prompt_number": 21
    },
    {
     "cell_type": "heading",
     "level": 2,
     "metadata": {},
     "source": [
      "Calculate WINS scores"
     ]
    },
    {
     "cell_type": "markdown",
     "metadata": {},
     "source": [
      "Define standard POI weights (per WalkScore) and custom WINS weights:"
     ]
    },
    {
     "cell_type": "code",
     "collapsed": false,
     "input": [
      "# weights from WalkScore\n",
      "poi_weights = {\n",
      "    'grocery': [3.],\n",
      "    'restaurant': [.75, .45, .25, .25, .225, .225, .225, .225, .2, .2],\n",
      "    'shopping': [.5, .45, .4, .35, .3],\n",
      "    'coffee': [1.25, .75],\n",
      "    'bank': [1.],\n",
      "    'park': [1.],\n",
      "    'school': [1.],\n",
      "    'bookstore': [1.],\n",
      "    'entertainment': [1.]\n",
      "}\n",
      "\n",
      "# weights for custom WINS score\n",
      "custom_weights = {\n",
      "    'grocery': [3.],\n",
      "    'restaurant': [.75, .5, .25],\n",
      "    'shopping': [.5, .45, .4, .35, .3],\n",
      "    'coffee': [1.25, .75],\n",
      "    'bank': [1.],\n",
      "    'park': [1.],\n",
      "    'school': [3.],\n",
      "    'bookstore': [1.],\n",
      "    'entertainment': [1.]\n",
      "}"
     ],
     "language": "python",
     "metadata": {},
     "outputs": [],
     "prompt_number": 9
    },
    {
     "cell_type": "code",
     "collapsed": false,
     "input": [
      "wins_categories = ['restaurant', 'grocery', 'school']\n",
      "\n",
      "total_weights = sum(map(lambda cat: sum(poi_weights[cat]), wins_categories))\n",
      "total_weights_custom = sum(map(lambda cat: sum(custom_weights[cat]), wins_categories))"
     ],
     "language": "python",
     "metadata": {},
     "outputs": [],
     "prompt_number": 10
    },
    {
     "cell_type": "markdown",
     "metadata": {},
     "source": [
      "Calculate scores for nodes:  \n",
      "**NOTE:** this takes a while, so only run when necessary--if not using pre-computed networks."
     ]
    },
    {
     "cell_type": "code",
     "collapsed": false,
     "input": [
      "def clean_gdf_for_shp(gdf):\n",
      "    \"\"\"\n",
      "    Utility method for cleaning up GeoDataFrame.\n",
      "    \"\"\"\n",
      "    \n",
      "    result = gdf.copy()\n",
      "\n",
      "    for col in gdf.columns.values:\n",
      "        # shapefiles don't accept boolean types, so convert to int\n",
      "        if gdf[col].dtype == np.bool_:\n",
      "            gdf[col] = gdf[col].astype(int)\n",
      "        \n",
      "        # grab first element, if this column is a list\n",
      "        gdf[col] = gdf[col].apply(lambda x: x if type(x) is not list else x[0])\n",
      "    \n",
      "    return gdf"
     ],
     "language": "python",
     "metadata": {},
     "outputs": [],
     "prompt_number": 11
    },
    {
     "cell_type": "code",
     "collapsed": false,
     "input": [
      "def calculate_scores(catch, decay='linear', max_dist=METERS_PER_MILE):\n",
      "    \n",
      "    # just use linear decay for now (NOTE: eventually use polynomial decay)\n",
      "    decay_func = lambda dist: 1. - (dist / (1. * max_dist))\n",
      "    \n",
      "    # copy POI weights\n",
      "    weights = dict((k, v[:]) for k, v in poi_weights.items())\n",
      "    #weights = dict((k, v[:]) for k, v in custom_weights.items())\n",
      "    \n",
      "    total = 0.0\n",
      "    total_yelp_weight = 0.0\n",
      "    errors = 0\n",
      "    \n",
      "    pois = []\n",
      "     \n",
      "    # loop through nodes in catchment\n",
      "    for nid in catch.net.nodes():\n",
      "        \n",
      "        # loop through POIs in node\n",
      "        for poi in catch.net.node[nid].get('pois', []):\n",
      "            try:\n",
      "                # get distance of pathj * 50\n",
      "                path = catch.shortest_path(nid)\n",
      "                length = sum(path.subG[u][v][0]['length'] for u, v in path.edge_pairs)\n",
      "            \n",
      "                # keep track of poi, path, and length\n",
      "                pois.append((poi, path, length))\n",
      "                \n",
      "            except:\n",
      "                pass\n",
      "            \n",
      "    # sort by distance\n",
      "    pois.sort(key=lambda item: item[-1])\n",
      "    \n",
      "    # loop through POIs to determine weights\n",
      "    for poi, path, length in pois:\n",
      "        try:\n",
      "            cat = poi.get('cat_type', '')\n",
      "            w = 0. if not weights[cat] else weights[cat].pop(0)\n",
      "\n",
      "            score = w * decay_func(length)\n",
      "            \n",
      "            total += score\n",
      "            \n",
      "            total_yelp_weight += score * (poi.get('rating', 5.0) / 5.0)\n",
      "        except:\n",
      "            errors += 1\n",
      "            print errors\n",
      "\n",
      "    return total, total_yelp_weight\n",
      "        "
     ],
     "language": "python",
     "metadata": {},
     "outputs": [
      {
       "ename": "NameError",
       "evalue": "name 'METERS_PER_MILE' is not defined",
       "output_type": "pyerr",
       "traceback": [
        "\u001b[0;31m---------------------------------------------------------------------------\u001b[0m\n\u001b[0;31mNameError\u001b[0m                                 Traceback (most recent call last)",
        "\u001b[0;32m<ipython-input-1-9fa7d2a5a2fa>\u001b[0m in \u001b[0;36m<module>\u001b[0;34m()\u001b[0m\n\u001b[0;32m----> 1\u001b[0;31m \u001b[0;32mdef\u001b[0m \u001b[0mcalculate_scores\u001b[0m\u001b[0;34m(\u001b[0m\u001b[0mcatch\u001b[0m\u001b[0;34m,\u001b[0m \u001b[0mdecay\u001b[0m\u001b[0;34m=\u001b[0m\u001b[0;34m'linear'\u001b[0m\u001b[0;34m,\u001b[0m \u001b[0mmax_dist\u001b[0m\u001b[0;34m=\u001b[0m\u001b[0mMETERS_PER_MILE\u001b[0m\u001b[0;34m)\u001b[0m\u001b[0;34m:\u001b[0m\u001b[0;34m\u001b[0m\u001b[0m\n\u001b[0m\u001b[1;32m      2\u001b[0m \u001b[0;34m\u001b[0m\u001b[0m\n\u001b[1;32m      3\u001b[0m     \u001b[0;31m# just use linear decay for now (NOTE: eventually use polynomial decay)\u001b[0m\u001b[0;34m\u001b[0m\u001b[0;34m\u001b[0m\u001b[0m\n\u001b[1;32m      4\u001b[0m     \u001b[0mdecay_func\u001b[0m \u001b[0;34m=\u001b[0m \u001b[0;32mlambda\u001b[0m \u001b[0mdist\u001b[0m\u001b[0;34m:\u001b[0m \u001b[0;36m1.\u001b[0m \u001b[0;34m-\u001b[0m \u001b[0;34m(\u001b[0m\u001b[0mdist\u001b[0m \u001b[0;34m/\u001b[0m \u001b[0;34m(\u001b[0m\u001b[0;36m1.\u001b[0m \u001b[0;34m*\u001b[0m \u001b[0mmax_dist\u001b[0m\u001b[0;34m)\u001b[0m\u001b[0;34m)\u001b[0m\u001b[0;34m\u001b[0m\u001b[0m\n\u001b[1;32m      5\u001b[0m \u001b[0;34m\u001b[0m\u001b[0m\n",
        "\u001b[0;31mNameError\u001b[0m: name 'METERS_PER_MILE' is not defined"
       ]
      }
     ],
     "prompt_number": 1
    },
    {
     "cell_type": "code",
     "collapsed": false,
     "input": [
      "for j, snet in enumerate(snets[-2:-1]):\n",
      "    print '=' * 50\n",
      "    print 'dataset', j\n",
      "    print '=' * 50\n",
      "    \n",
      "    nodes = snet.net.nodes()\n",
      "    \n",
      "    for i, n in enumerate(nodes):\n",
      "\n",
      "        catchment = snet.to_catchment(n, METERS_PER_MILE)\n",
      "        score, rating_score = calculate_scores(catchment)\n",
      "\n",
      "        if i % 250 == 0: \n",
      "            print i\n",
      "    weights = dict((k, v[:]) for k, v in poi_weights.items())\n",
      "    #weights = dict((k, v[:]) for k, v in custom_weights.items())\n",
      "    \n",
      "    total = 0.0\n",
      "    total_yelp_weight = 0.0\n",
      "\n",
      "        snet.net.node[n]['score'] = score\n",
      "        snet.net.node[n]['score_rating'] = rating_score\n",
      "        snet.net.node[n]['n_score'] = score / total_weights\n",
      "        snet.net.node[n]['n_score_rating'] = rating_score / total_weights\n",
      "        \n",
      "    for u, v in snet.net.edges():\n",
      "        u_score = snet.net.node[u].get('score', 0.0)\n",
      "        v_score = snet.net.node[v].get('score', 0.0)\n",
      "        u_score_rating = snet.net.node[u].get('score_rating', 0.0)\n",
      "        v_score_rating = snet.net.node[v].get('score_rating', 0.0)\n",
      "\n",
      "        snet.net[u][v][0]['score'] = np.array([u_score, v_score]).mean()\n",
      "        snet.net[u][v][0]['score_rating'] = np.array([u_score_rating, v_score_rating]).mean()\n",
      "        \n",
      "    try: \n",
      "        print 'Writing to GDF'\n",
      "        node_gdf, edge_gdf = ox.graph_to_gdfs(snet.net)\n",
      "        edge_gdf = clean_gdf_for_shp(edge_gdf)\n",
      "        edge_gdf.to_file('./data/92130-street-scores-custom.shp'.format(j))\n",
      "    except:\n",
      "        print 'oops'"
     ],
     "language": "python",
     "metadata": {},
     "outputs": []
    }
   ],
   "metadata": {}
  }
 ]
}
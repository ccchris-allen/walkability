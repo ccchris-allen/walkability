{
 "metadata": {
  "name": "",
  "signature": "sha256:69d19b4a9542f15953fd3fb298b15cbe6f07c4b5bf6235bca81b478dca2e6e99"
 },
 "nbformat": 3,
 "nbformat_minor": 0,
 "worksheets": [
  {
   "cells": [
    {
     "cell_type": "heading",
     "level": 1,
     "metadata": {},
     "source": [
      "WINS CALCULATION"
     ]
    },
    {
     "cell_type": "markdown",
     "metadata": {},
     "source": [
      "This notebook demonstrates how to calculate WINS scores for three zip codes in San Diego."
     ]
    },
    {
     "cell_type": "markdown",
     "metadata": {},
     "source": [
      "---"
     ]
    },
    {
     "cell_type": "heading",
     "level": 2,
     "metadata": {},
     "source": [
      "Setup"
     ]
    },
    {
     "cell_type": "markdown",
     "metadata": {},
     "source": [
      "First, load necessary modules"
     ]
    },
    {
     "cell_type": "code",
     "collapsed": false,
     "input": [
      "import matplotlib.pyplot as plt\n",
      "import seaborn as sns\n",
      "import numpy as np\n",
      "import os\n",
      "\n",
      "import matplotlib.cm as cm\n",
      "import matplotlib.colors as colors\n",
      "\n",
      "from shapely.geometry import MultiPoint\n",
      "import geopandas as gpd\n",
      "import pickle\n",
      "\n",
      "os.chdir('../') # HACK: this really should be set as an environment variable\n",
      "\n",
      "from spatial_networks import SpatialNetwork, Catchment, Path, METERS_PER_MILE\n",
      "from algorithms import *\n",
      "\n",
      "sns.set_style(\"whitegrid\")\n",
      "\n",
      "import warnings\n",
      "warnings.filterwarnings('ignore')\n",
      "\n",
      "%matplotlib inline"
     ],
     "language": "python",
     "metadata": {},
     "outputs": [],
     "prompt_number": 1
    },
    {
     "cell_type": "code",
     "collapsed": false,
     "input": [
      "# 92103\n",
      "nsew = 33.037738, 32.904258, -117.12156, -117.243896\n",
      "snet92103 = SpatialNetwork.from_osm_bbox(nsew)\n",
      "\n",
      "# 92113 \n",
      "nsew = 32.708961, 32.680502, -117.084947, -117.158632\n",
      "snet92113 = SpatialNetwork.from_osm_bbox(nsew)\n",
      "\n",
      "# 92120 \n",
      "nsew = 32.821349, 32.773731, -117.039413, -117.104387\n",
      "snet92120 = SpatialNetwork.from_osm_bbox(nsew)\n",
      "\n",
      "snet_names = [ '92103', '92113', '92120' ]\n",
      "snets = [ snet92103, snet92113, snet92120 ]"
     ],
     "language": "python",
     "metadata": {},
     "outputs": [],
     "prompt_number": 2
    },
    {
     "cell_type": "heading",
     "level": 2,
     "metadata": {},
     "source": [
      "Prepare network for WINS calculations"
     ]
    },
    {
     "cell_type": "markdown",
     "metadata": {},
     "source": [
      "Add POIs to network:"
     ]
    },
    {
     "cell_type": "code",
     "collapsed": false,
     "input": [
      "YELP_SHP = 'data/poi/yelp/biz_exported_4269.shp'\n",
      "SCHOOLS_SHP = 'data/poi/schools/schools_wgs84.shp'\n",
      "\n",
      "yelps = gpd.read_file(YELP_SHP)\n",
      "schools = gpd.read_file(SCHOOLS_SHP)"
     ],
     "language": "python",
     "metadata": {},
     "outputs": [],
     "prompt_number": 3
    },
    {
     "cell_type": "markdown",
     "metadata": {},
     "source": [
      "Filter out POIs that are outside our study areas:"
     ]
    },
    {
     "cell_type": "code",
     "collapsed": false,
     "input": [
      "boundaries = []\n",
      "\n",
      "for snet in snets:\n",
      "    gdf_nodes, gdf_edges = ox.graph_to_gdfs(snet.net)\n",
      "    boundary = gdf_nodes.geometry.unary_union.convex_hull\n",
      "    boundaries.append(boundary)\n",
      "\n",
      "yelps = yelps[yelps.within(MultiPolygon(boundaries))]\n",
      "schools = schools[schools.within(MultiPolygon(boundaries))]"
     ],
     "language": "python",
     "metadata": {},
     "outputs": [],
     "prompt_number": 4
    },
    {
     "cell_type": "markdown",
     "metadata": {},
     "source": [
      "Plot filtered POIs to make sure these look good:"
     ]
    },
    {
     "cell_type": "code",
     "collapsed": false,
     "input": [
      "ax = yelps.plot(c='blue')\n",
      "schools.plot(ax=ax, c='red')"
     ],
     "language": "python",
     "metadata": {},
     "outputs": [
      {
       "metadata": {},
       "output_type": "pyout",
       "prompt_number": 5,
       "text": [
        "<matplotlib.axes._subplots.AxesSubplot at 0x7f666ed9b550>"
       ]
      },
      {
       "metadata": {},
       "output_type": "display_data",
       "png": "[encoded data removed]",
       "text": [
        "<matplotlib.figure.Figure at 0x7f666ed9b810>"
       ]
      }
     ],
     "prompt_number": 5
    },
    {
     "cell_type": "markdown",
     "metadata": {},
     "source": [
      "Clear POI-related data from road networks if already exist:"
     ]
    },
    {
     "cell_type": "raw",
     "metadata": {},
     "source": [
      "for snet in snets:\n",
      "    for n in snet.net.nodes():\n",
      "        snet.net.node[n].pop('pois', None)\n",
      "        snet.net.node[n].pop('score', None)\n",
      "        snet.net.node[n].pop('score_rating', None)"
     ]
    },
    {
     "cell_type": "markdown",
     "metadata": {},
     "source": [
      "Set POI categories:"
     ]
    },
    {
     "cell_type": "code",
     "collapsed": false,
     "input": [
      "# Mark each POI 'restaurant' or 'grocery'\n",
      "cats = yelps['yelp_categ'].str.replace(\"'\", '').str.split(',')\n",
      "yelps['cat_type'] = yelps['yelp_categ'].str.contains('grocery').apply(lambda x: 'grocery' if x else 'restaurant')\n",
      "\n",
      "schools['cat_type'] = 'school'"
     ],
     "language": "python",
     "metadata": {},
     "outputs": [],
     "prompt_number": 6
    },
    {
     "cell_type": "markdown",
     "metadata": {},
     "source": [
      "Grab only necessary POI columns:"
     ]
    },
    {
     "cell_type": "code",
     "collapsed": false,
     "input": [
      "yelp_columns = [\n",
      "    'OBJECTID', \n",
      "    'biz_name', \n",
      "    'biz_price_', \n",
      "    'rating', \n",
      "    'yelp_cat_1', \n",
      "    'yelp_categ',\n",
      "    'coordinates',\n",
      "    'cat_type'\n",
      "]\n",
      "\n",
      "yelps['poi_type'] = 'yelp'\n",
      "yelps['coordinates'] = yelps.geometry.apply(lambda g: g.coords[0][::-1])\n",
      "yelps_dict = yelps[yelp_columns].to_dict('rows')\n",
      "\n",
      "schools_columns = [\n",
      "    'SOCTYPE',\n",
      "    'PRIV',\n",
      "    'SCHOOL',\n",
      "    'SHORTNAME',\n",
      "    'coordinates',\n",
      "    'cat_type'\n",
      "]\n",
      "\n",
      "schools['poi_type'] = 'school'\n",
      "schools['coordinates'] = schools.geometry.apply(lambda g: g.coords[0][::-1])\n",
      "schools_dict = schools[schools_columns].to_dict('rows')"
     ],
     "language": "python",
     "metadata": {},
     "outputs": [],
     "prompt_number": 7
    },
    {
     "cell_type": "markdown",
     "metadata": {},
     "source": [
      "Add POIs to the network:"
     ]
    },
    {
     "cell_type": "code",
     "collapsed": false,
     "input": [
      "for snet in snets:\n",
      "    snet.add_pois(yelps_dict)\n",
      "    snet.add_pois(schools_dict)"
     ],
     "language": "python",
     "metadata": {},
     "outputs": [],
     "prompt_number": 8
    },
    {
     "cell_type": "heading",
     "level": 2,
     "metadata": {},
     "source": [
      "Calculate WINS scores"
     ]
    },
    {
     "cell_type": "markdown",
     "metadata": {},
     "source": [
      "Define standard POI weights (per WalkScore) and custom WINS weights:"
     ]
    },
    {
     "cell_type": "code",
     "collapsed": false,
     "input": [
      "# weights from WalkScore\n",
      "poi_weights = {\n",
      "    'grocery': [3.],\n",
      "    'restaurant': [.75, .45, .25, .25, .225, .225, .225, .225, .2, .2],\n",
      "    'shopping': [.5, .45, .4, .35, .3],\n",
      "    'coffee': [1.25, .75],\n",
      "    'bank': [1.],\n",
      "    'park': [1.],\n",
      "    'school': [1.],\n",
      "    'bookstore': [1.],\n",
      "    'entertainment': [1.]\n",
      "}\n",
      "\n",
      "# weights for custom WINS score\n",
      "custom_weights = {\n",
      "    'grocery': [3.],\n",
      "    'restaurant': [.75, .5, .25],\n",
      "    'shopping': [.5, .45, .4, .35, .3],\n",
      "    'coffee': [1.25, .75],\n",
      "    'bank': [1.],\n",
      "    'park': [1.],\n",
      "    'school': [3.],\n",
      "    'bookstore': [1.],\n",
      "    'entertainment': [1.]\n",
      "}"
     ],
     "language": "python",
     "metadata": {},
     "outputs": [],
     "prompt_number": 9
    },
    {
     "cell_type": "code",
     "collapsed": false,
     "input": [
      "wins_categories = ['restaurant', 'grocery', 'school']\n",
      "\n",
      "total_weights = sum(map(lambda cat: sum(poi_weights[cat]), wins_categories))\n",
      "total_weights_custom = sum(map(lambda cat: sum(custom_weights[cat]), wins_categories))"
     ],
     "language": "python",
     "metadata": {},
     "outputs": [],
     "prompt_number": 10
    },
    {
     "cell_type": "markdown",
     "metadata": {},
     "source": [
      "Calculate scores for nodes:  \n",
      "**NOTE:** this takes a while, so only run when necessary--if not using pre-computed networks."
     ]
    },
    {
     "cell_type": "code",
     "collapsed": false,
     "input": [
      "def clean_gdf_for_shp(gdf):\n",
      "    \"\"\"\n",
      "    Utility method for cleaning up GeoDataFrame.\n",
      "    \"\"\"\n",
      "    \n",
      "    result = gdf.copy()\n",
      "\n",
      "    for col in gdf.columns.values:\n",
      "        # shapefiles don't accept boolean types, so convert to int\n",
      "        if gdf[col].dtype == np.bool_:\n",
      "            gdf[col] = gdf[col].astype(int)\n",
      "        \n",
      "        # grab first element, if this column is a list\n",
      "        gdf[col] = gdf[col].apply(lambda x: x if type(x) is not list else x[0])\n",
      "    \n",
      "    return gdf"
     ],
     "language": "python",
     "metadata": {},
     "outputs": [],
     "prompt_number": 11
    },
    {
     "cell_type": "code",
     "collapsed": false,
     "input": [
      "def calculate_scores(catch, decay='linear', max_dist=METERS_PER_MILE):\n",
      "    \n",
      "    # just use linear decay for now (NOTE: eventually use polynomial decay)\n",
      "    decay_func = lambda dist: 1. - (dist / (1. * max_dist))\n",
      "    \n",
      "    # copy POI weights\n",
      "    weights = dict((k, v[:]) for k, v in poi_weights.items())\n",
      "    #weights = dict((k, v[:]) for k, v in custom_weights.items())\n",
      "    \n",
      "    total = 0.0\n",
      "    total_yelp_weight = 0.0\n",
      "    errors = 0\n",
      "    \n",
      "    pois = []\n",
      "     \n",
      "    # loop through nodes in catchment\n",
      "    for nid in catch.net.nodes():\n",
      "        \n",
      "        # loop through POIs in node\n",
      "        for poi in catch.net.node[nid].get('pois', []):\n",
      "            try:\n",
      "                # get distance of pathj * 50\n",
      "                path = catch.shortest_path(nid)\n",
      "                length = sum(path.subG[u][v][0]['length'] for u, v in path.edge_pairs)\n",
      "            \n",
      "                # keep track of poi, path, and length\n",
      "                pois.append((poi, path, length))\n",
      "                \n",
      "            except:\n",
      "                pass\n",
      "            \n",
      "    # sort by distance\n",
      "    pois.sort(key=lambda item: item[-1])\n",
      "    \n",
      "    # loop through POIs to determine weights\n",
      "    for poi, path, length in pois:\n",
      "        try:\n",
      "            cat = poi.get('cat_type', '')\n",
      "            w = 0. if not weights[cat] else weights[cat].pop(0)\n",
      "\n",
      "            score = w * decay_func(length)\n",
      "            \n",
      "            total += score\n",
      "            \n",
      "            total_yelp_weight += score * (poi.get('rating', 5.0) / 5.0)\n",
      "        except:\n",
      "            errors += 1\n",
      "            print errors\n",
      "\n",
      "    return total, total_yelp_weight\n",
      "        "
     ],
     "language": "python",
     "metadata": {},
     "outputs": [],
     "prompt_number": 12
    },
    {
     "cell_type": "code",
     "collapsed": false,
     "input": [
      "for j, (snet, name) in enumerate(zip(snets, snet_names)):\n",
      "    print '=' * 50\n",
      "    print 'Network:', name\n",
      "    print '=' * 50\n",
      "    \n",
      "    nodes = snet.net.nodes()\n",
      "    \n",
      "    for i, n in enumerate(nodes):\n",
      "\n",
      "        catchment = snet.to_catchment(n, METERS_PER_MILE)\n",
      "\n",
      "        score, rating_score = calculate_scores(catchment)\n",
      "\n",
      "        if i % 250 == 0: \n",
      "            print i\n",
      "\n",
      "        snet.net.node[n]['score'] = score\n",
      "        snet.net.node[n]['score_rating'] = rating_score\n",
      "        snet.net.node[n]['n_score'] = score / total_weights\n",
      "        snet.net.node[n]['n_score_rating'] = rating_score / total_weights\n",
      "        \n",
      "    for u, v in snet.net.edges():\n",
      "        u_score = snet.net.node[u].get('score', 0.0)\n",
      "        v_score = snet.net.node[v].get('score', 0.0)\n",
      "        u_score_rating = snet.net.node[u].get('score_rating', 0.0)\n",
      "        v_score_rating = snet.net.node[v].get('score_rating', 0.0)\n",
      "\n",
      "        snet.net[u][v][0]['score'] = np.array([u_score, v_score]).mean()\n",
      "        snet.net[u][v][0]['score_rating'] = np.array([u_score_rating, v_score_rating]).mean()\n",
      "     \n",
      "    print \"Saving scores for {}.\".format(name)\n",
      "    pickle.save(open(\"./notebooks/data/{}-net-with-weighted-scores.p\".format(name)))\n",
      "    \n",
      "    \"\"\"\n",
      "    try: \n",
      "        print 'Writing to GDF'\n",
      "        node_gdf, edge_gdf = ox.graph_to_gdfs(snet.net)\n",
      "        edge_gdf = clean_gdf_for_shp(edge_gdf)\n",
      "        edge_gdf.to_file('./data/92130-street-scores-custom.shp'.format(j))\n",
      "    except:\n",
      "        print 'oops'\n",
      "    \"\"\""
     ],
     "language": "python",
     "metadata": {},
     "outputs": [
      {
       "output_type": "stream",
       "stream": "stdout",
       "text": [
        "==================================================\n",
        "Network: 92103\n",
        "==================================================\n",
        "0\n",
        "250"
       ]
      },
      {
       "output_type": "stream",
       "stream": "stdout",
       "text": [
        "\n",
        "500"
       ]
      },
      {
       "output_type": "stream",
       "stream": "stdout",
       "text": [
        "\n",
        "750"
       ]
      },
      {
       "output_type": "stream",
       "stream": "stdout",
       "text": [
        "\n",
        "1000"
       ]
      },
      {
       "output_type": "stream",
       "stream": "stdout",
       "text": [
        "\n",
        "1250"
       ]
      },
      {
       "output_type": "stream",
       "stream": "stdout",
       "text": [
        "\n",
        "1500"
       ]
      },
      {
       "output_type": "stream",
       "stream": "stdout",
       "text": [
        "\n",
        "1750"
       ]
      },
      {
       "output_type": "stream",
       "stream": "stdout",
       "text": [
        "\n",
        "2000"
       ]
      },
      {
       "output_type": "stream",
       "stream": "stdout",
       "text": [
        "\n",
        "2250"
       ]
      },
      {
       "output_type": "stream",
       "stream": "stdout",
       "text": [
        "\n",
        "2500"
       ]
      },
      {
       "output_type": "stream",
       "stream": "stdout",
       "text": [
        "\n",
        "2750"
       ]
      },
      {
       "output_type": "stream",
       "stream": "stdout",
       "text": [
        "\n",
        "3000"
       ]
      },
      {
       "output_type": "stream",
       "stream": "stdout",
       "text": [
        "\n",
        "3250"
       ]
      },
      {
       "output_type": "stream",
       "stream": "stdout",
       "text": [
        "\n",
        "3500"
       ]
      },
      {
       "output_type": "stream",
       "stream": "stdout",
       "text": [
        "\n",
        "3750"
       ]
      },
      {
       "output_type": "stream",
       "stream": "stdout",
       "text": [
        "\n",
        "4000"
       ]
      },
      {
       "output_type": "stream",
       "stream": "stdout",
       "text": [
        "\n",
        "4250"
       ]
      },
      {
       "output_type": "stream",
       "stream": "stdout",
       "text": [
        "\n",
        "4500"
       ]
      },
      {
       "output_type": "stream",
       "stream": "stdout",
       "text": [
        "\n",
        "4750"
       ]
      },
      {
       "output_type": "stream",
       "stream": "stdout",
       "text": [
        "\n",
        "5000"
       ]
      },
      {
       "output_type": "stream",
       "stream": "stdout",
       "text": [
        "\n",
        "5250"
       ]
      },
      {
       "output_type": "stream",
       "stream": "stdout",
       "text": [
        "\n",
        "5500"
       ]
      },
      {
       "output_type": "stream",
       "stream": "stdout",
       "text": [
        "\n",
        "5750"
       ]
      },
      {
       "output_type": "stream",
       "stream": "stdout",
       "text": [
        "\n",
        "6000"
       ]
      },
      {
       "output_type": "stream",
       "stream": "stdout",
       "text": [
        "\n",
        "6250"
       ]
      },
      {
       "output_type": "stream",
       "stream": "stdout",
       "text": [
        "\n",
        "6500"
       ]
      },
      {
       "output_type": "stream",
       "stream": "stdout",
       "text": [
        "\n",
        "6750"
       ]
      },
      {
       "output_type": "stream",
       "stream": "stdout",
       "text": [
        "\n",
        "7000"
       ]
      },
      {
       "output_type": "stream",
       "stream": "stdout",
       "text": [
        "\n",
        "7250"
       ]
      },
      {
       "output_type": "stream",
       "stream": "stdout",
       "text": [
        "\n",
        "7500"
       ]
      },
      {
       "output_type": "stream",
       "stream": "stdout",
       "text": [
        "\n",
        "7750"
       ]
      },
      {
       "output_type": "stream",
       "stream": "stdout",
       "text": [
        "\n",
        "8000"
       ]
      },
      {
       "output_type": "stream",
       "stream": "stdout",
       "text": [
        "\n",
        "8250"
       ]
      },
      {
       "output_type": "stream",
       "stream": "stdout",
       "text": [
        "\n",
        "8500"
       ]
      }
     ]
    },
    {
     "cell_type": "code",
     "collapsed": false,
     "input": [],
     "language": "python",
     "metadata": {},
     "outputs": []
    }
   ],
   "metadata": {}
  }
 ]
}